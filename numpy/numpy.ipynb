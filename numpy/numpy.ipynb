{
 "cells": [
  {
   "cell_type": "markdown",
   "metadata": {},
   "source": [
    "### Numpy Crash Course for Python"
   ]
  },
  {
   "cell_type": "markdown",
   "metadata": {},
   "source": [
    "NumPy, Python programlama dilinde bilimsel hesaplama için kullanılan bir kütüphanedir. Temel olarak çok boyutlu dizilerin ve matrislerin işlenmesini sağlar ve bu nedenle özellikle veri analizi, makine öğrenimi, bilimsel hesaplama ve mühendislik gibi alanlarda yaygın olarak kullanılır. İşte NumPy'nin önemli özellikleri ve nedenlerden bazıları:\n",
    "1. Hız:\n",
    "NumPy, Python'da bilimsel hesaplamaları hızlandırmak için optimize edilmiş bir C kütüphanesidir. Bu nedenle, NumPy kullanarak yapılan işlemler genellikle saf Python'dan daha hızlıdır. Özellikle büyük veri setlerinde veya karmaşık hesaplamalarda performans avantajı büyük olabilir.\n",
    "2. Diziler ve Matrisler:\n",
    "NumPy, çok boyutlu dizileri ve matrisleri etkili bir şekilde oluşturmanıza, işlemenize ve manipüle etmenize olanak tanır. Bu, özellikle veri işleme ve bilimsel hesaplama gibi alanlarda çok yaygın bir gereksinimdir.\n",
    "3. Yaygın İşlemler ve Fonksiyonlar: \n",
    "NumPy, matematiksel işlemleri ve fonksiyonları içeren geniş bir kütüphane sunar. Örneğin, toplama, çıkarma, çarpma, bölme gibi temel işlemlerden trigonometrik, logaritmik ve istatistiksel işlemlere kadar birçok fonksiyonu içerir.\n",
    "4. Rastgele Sayı Üretimi:\n",
    "NumPy, rastgele sayı üretimi için birçok fonksiyon sağlar. Bu, simülasyonlar, olasılık hesaplamaları ve diğer birçok uygulama için önemlidir.\n",
    "5. Verimli Bellek Kullanımı:\n",
    "NumPy, verimli bellek kullanımı için optimize edilmiştir. Bu, büyük veri setleriyle çalışırken önemlidir çünkü bellek yönetimi performansı etkiler."
   ]
  },
  {
   "cell_type": "markdown",
   "metadata": {},
   "source": [
    "##### Numpy indirmek için"
   ]
  },
  {
   "cell_type": "code",
   "execution_count": null,
   "metadata": {},
   "outputs": [],
   "source": [
    "# pip install numpy"
   ]
  },
  {
   "cell_type": "markdown",
   "metadata": {},
   "source": [
    "Numpy Kodları"
   ]
  },
  {
   "cell_type": "code",
   "execution_count": null,
   "metadata": {},
   "outputs": [],
   "source": [
    "import numpy as np"
   ]
  },
  {
   "cell_type": "markdown",
   "metadata": {},
   "source": [
    "python"
   ]
  },
  {
   "cell_type": "code",
   "execution_count": null,
   "metadata": {},
   "outputs": [],
   "source": [
    "a= [17,25,36,48,59,68,71,82,93,99]\n",
    "\n",
    "print(a)\n",
    "\n",
    "print(a[1])\n",
    "\n",
    "print(a[2:7])\n",
    "\n",
    "print(a[-1])\n",
    "\n",
    "print(a[::-1])"
   ]
  },
  {
   "cell_type": "markdown",
   "metadata": {},
   "source": [
    "For numpy"
   ]
  },
  {
   "cell_type": "code",
   "execution_count": null,
   "metadata": {},
   "outputs": [],
   "source": [
    "a= np.array([1,2,3,4,56,7,8])\n",
    "\n",
    "print(a)\n",
    "\n",
    "print(type(a))\n",
    "\n",
    "print(a[1])\n",
    "\n",
    "print(a[2:5])\n",
    "\n",
    "print(a[:-4])"
   ]
  },
  {
   "cell_type": "markdown",
   "metadata": {},
   "source": [
    "Data Attributes"
   ]
  },
  {
   "cell_type": "code",
   "execution_count": null,
   "metadata": {},
   "outputs": [],
   "source": [
    "# Python Lists (Basic Arrays):\n",
    "my_list = [1, 2, 3, 4, 5]\n",
    "\n",
    "first_element = my_list[0]\n",
    "sliced_list = my_list[1:4]\n",
    "my_list[2] = 10\n",
    "my_list.append(6)\n",
    "extended_list = my_list + [7, 8]\n",
    "length = len(my_list)\n",
    "\n",
    "print(\"Python List Operations:\")\n",
    "print(\"First element:\", first_element)\n",
    "print(\"Sliced list:\", sliced_list)\n",
    "print(\"Modified list:\", my_list)\n",
    "print(\"Extended list:\", extended_list)\n",
    "print(\"Length of list:\", length)\n",
    "print()\n",
    "\n",
    "# NumPy Arrays:\n",
    "my_array = np.array([1, 2, 3, 4, 5])\n",
    "\n",
    "first_element_np = my_array[0]\n",
    "sliced_array = my_array[1:4]\n",
    "my_array[2] = 10\n",
    "result = my_array * 2\n",
    "shape = my_array.shape\n",
    "size = my_array.size\n",
    "reshaped_array = my_array.reshape((1, 5))  # Reshape to a 1x5 matrix\n",
    "random_array = np.random.rand(3, 3)\n",
    "\n",
    "print(\"NumPy Array Operations:\")\n",
    "print(\"First element:\", first_element_np)\n",
    "print(\"Sliced array:\", sliced_array)\n",
    "print(\"Modified array:\", my_array)\n",
    "print(\"Result of multiplication:\", result)\n",
    "print(\"Shape of array:\", shape)\n",
    "print(\"Size of array:\", size)\n",
    "print(\"Reshaped array:\", reshaped_array)\n",
    "print(\"Random array:\", random_array)\n"
   ]
  },
  {
   "cell_type": "code",
   "execution_count": null,
   "metadata": {},
   "outputs": [],
   "source": [
    "a_mul = np.array([[1,2,3],[3,4,5],[6,7,8]])\n",
    "\n"
   ]
  },
  {
   "cell_type": "code",
   "execution_count": null,
   "metadata": {},
   "outputs": [],
   "source": [
    "a_mul = np.array([[[1,2,3],[3,4,5],[6,7,8]],[[1,1,1],[1,1,1],[1,1,1]]])"
   ]
  },
  {
   "cell_type": "code",
   "execution_count": null,
   "metadata": {},
   "outputs": [],
   "source": [
    "print(a_mul)\n",
    "\n",
    "print(a_mul.shape)\n",
    "\n",
    "print(a_mul.ndim)\n",
    "\n",
    "print(a_mul.dtype)"
   ]
  },
  {
   "cell_type": "markdown",
   "metadata": {},
   "source": [
    "Numpy Data Types"
   ]
  },
  {
   "cell_type": "code",
   "execution_count": null,
   "metadata": {},
   "outputs": [],
   "source": [
    "a= np.array([[1,2,3],\n",
    "            [4,'Hello',6],\n",
    "            [7,8,9]])"
   ]
  },
  {
   "cell_type": "markdown",
   "metadata": {},
   "source": [
    "dtype=int32\n",
    "\n",
    "d= {'1': 'A'}"
   ]
  },
  {
   "cell_type": "code",
   "execution_count": null,
   "metadata": {},
   "outputs": [],
   "source": [
    "print(a.dtype)\n",
    "print(a[0][0])\n",
    "print(type(a[0][0]))"
   ]
  },
  {
   "cell_type": "markdown",
   "metadata": {},
   "source": [
    "Veri tipini değiştirmek diğer verileri nasıl etkiler?"
   ]
  },
  {
   "cell_type": "markdown",
   "metadata": {},
   "source": [
    "Filling Arrays"
   ]
  },
  {
   "cell_type": "code",
   "execution_count": null,
   "metadata": {},
   "outputs": [],
   "source": [
    "a=np.full((2,3,4), 9)"
   ]
  },
  {
   "cell_type": "code",
   "execution_count": null,
   "metadata": {},
   "outputs": [],
   "source": [
    "a= np.zeros(3,4,7)"
   ]
  },
  {
   "cell_type": "code",
   "execution_count": null,
   "metadata": {},
   "outputs": [],
   "source": [
    "a= np.ones(10,10)"
   ]
  },
  {
   "cell_type": "code",
   "execution_count": null,
   "metadata": {},
   "outputs": [],
   "source": [
    "a= np.empty(4,4)"
   ]
  },
  {
   "cell_type": "code",
   "execution_count": null,
   "metadata": {},
   "outputs": [],
   "source": [
    "print(a)"
   ]
  },
  {
   "cell_type": "code",
   "execution_count": null,
   "metadata": {},
   "outputs": [],
   "source": [
    "x_values= np.arrange(0,1000,5)\n",
    "x_values=np.linspace(0,1000, 1001)"
   ]
  },
  {
   "cell_type": "code",
   "execution_count": null,
   "metadata": {},
   "outputs": [],
   "source": [
    "print(x_values)"
   ]
  },
  {
   "cell_type": "markdown",
   "metadata": {},
   "source": [
    "Nan& INF"
   ]
  },
  {
   "cell_type": "code",
   "execution_count": null,
   "metadata": {},
   "outputs": [],
   "source": [
    "print(np.nan)\n",
    "print(np.inf)"
   ]
  },
  {
   "cell_type": "code",
   "execution_count": null,
   "metadata": {},
   "outputs": [],
   "source": [
    "print(np.isnan(np.nan))\n",
    "print(np.isinf(np.inf))"
   ]
  },
  {
   "cell_type": "code",
   "execution_count": null,
   "metadata": {},
   "outputs": [],
   "source": [
    "print(np.sqrt(-1))\n",
    "print(np.array([10])/0)"
   ]
  },
  {
   "cell_type": "markdown",
   "metadata": {},
   "source": [
    "Methematical Operation"
   ]
  },
  {
   "cell_type": "code",
   "execution_count": 5,
   "metadata": {},
   "outputs": [],
   "source": [
    "l1=[1,2,3,4,5]\n",
    "l2=[6,7,8,9,10]\n",
    "\n",
    "a1 = np.array(l1)\n",
    "a2=np.array(l2)"
   ]
  },
  {
   "cell_type": "markdown",
   "metadata": {},
   "source": [
    "+,-,*,/"
   ]
  },
  {
   "cell_type": "code",
   "execution_count": null,
   "metadata": {},
   "outputs": [],
   "source": [
    "print(l1 * 5)\n",
    "print(a1 * 5)"
   ]
  },
  {
   "cell_type": "code",
   "execution_count": null,
   "metadata": {},
   "outputs": [],
   "source": [
    "a1= np.array([1,2,3])\n",
    "a2=np.array([1],[2])"
   ]
  }
 ],
 "metadata": {
  "kernelspec": {
   "display_name": "env",
   "language": "python",
   "name": "python3"
  },
  "language_info": {
   "codemirror_mode": {
    "name": "ipython",
    "version": 3
   },
   "file_extension": ".py",
   "mimetype": "text/x-python",
   "name": "python",
   "nbconvert_exporter": "python",
   "pygments_lexer": "ipython3",
   "version": "3.11.8"
  }
 },
 "nbformat": 4,
 "nbformat_minor": 2
}
